{
 "cells": [
  {
   "cell_type": "markdown",
   "metadata": {},
   "source": [
    "#### In this tutorial we are going to use GenRA to evaluate a dataset of LD50 data from acute rat oral toxicity studies and make a prediction for a target chemical of interest."
   ]
  },
  {
   "cell_type": "markdown",
   "metadata": {},
   "source": [
    "Let import our datasets and start looking at them:"
   ]
  },
  {
   "cell_type": "code",
   "execution_count": 4,
   "metadata": {},
   "outputs": [],
   "source": [
    "#Import relevant libraries\n",
    "\n",
    "import numpy as np\n",
    "import pandas as pd\n",
    "import matplotlib.pyplot as plt\n",
    "import seaborn as sns\n",
    "%matplotlib inline\n",
    "import openpyxl"
   ]
  },
  {
   "cell_type": "code",
   "execution_count": 5,
   "metadata": {},
   "outputs": [],
   "source": [
    "from rdkit.Chem.Draw import IPythonConsole, MolsToGridImage\n",
    "\n",
    "#Show mols in dataframes\n",
    "from rdkit.Chem import PandasTools\n",
    "from rdkit import Chem\n",
    "from rdkit.Chem.Draw import MolsToGridImage\n",
    "from IPython.core.display import HTML\n",
    "from rdkit.Chem import Descriptors\n",
    "from rdkit.ML.Descriptors import MoleculeDescriptors\n",
    "from rdkit.Chem import PandasTools\n",
    "from rdkit.Chem import AllChem\n",
    "from rdkit.Chem import rdDepictor\n",
    "from rdkit.Chem.Fingerprints import FingerprintMols\n",
    "from rdkit import DataStructs"
   ]
  },
  {
   "cell_type": "code",
   "execution_count": 6,
   "metadata": {},
   "outputs": [],
   "source": [
    "import openpyxl"
   ]
  },
  {
   "cell_type": "markdown",
   "metadata": {},
   "source": [
    "Name the relevant directory paths where the data files are located"
   ]
  },
  {
   "cell_type": "code",
   "execution_count": 7,
   "metadata": {},
   "outputs": [],
   "source": [
    "raw_dir = '/home/grace/Documents/python/UNC_RAx_Tutorial/data/raw/'"
   ]
  },
  {
   "cell_type": "code",
   "execution_count": 8,
   "metadata": {},
   "outputs": [],
   "source": [
    "#Import the acute toxicity chemical dataset that has been captured into 2 worksets in Excel called 'first' and 'last'\n",
    "#Here we are going to use openpyxl to open these worksheets\n",
    "\n",
    "CMO = pd.concat([pd.read_excel(raw_dir+'smi_acute.xlsx', sheet_name = 'first'), pd.read_excel(raw_dir+'smi_acute.xlsx', sheet_name = 'last')], axis =0).drop(['INPUT','FOUND_BY'],axis=1)\n",
    "\n"
   ]
  },
  {
   "cell_type": "code",
   "execution_count": 9,
   "metadata": {},
   "outputs": [
    {
     "data": {
      "text/html": [
       "<div>\n",
       "<style scoped>\n",
       "    .dataframe tbody tr th:only-of-type {\n",
       "        vertical-align: middle;\n",
       "    }\n",
       "\n",
       "    .dataframe tbody tr th {\n",
       "        vertical-align: top;\n",
       "    }\n",
       "\n",
       "    .dataframe thead th {\n",
       "        text-align: right;\n",
       "    }\n",
       "</style>\n",
       "<table border=\"1\" class=\"dataframe\">\n",
       "  <thead>\n",
       "    <tr style=\"text-align: right;\">\n",
       "      <th></th>\n",
       "      <th>DTXSID</th>\n",
       "      <th>PREFERRED_NAME</th>\n",
       "      <th>SMILES</th>\n",
       "      <th>QSAR_READY_SMILES</th>\n",
       "    </tr>\n",
       "  </thead>\n",
       "  <tbody>\n",
       "    <tr>\n",
       "      <th>0</th>\n",
       "      <td>DTXSID5020281</td>\n",
       "      <td>1-Chloro-4-nitrobenzene</td>\n",
       "      <td>[O-][N+](=O)C1=CC=C(Cl)C=C1</td>\n",
       "      <td>[O-][N+](=O)C1=CC=C(Cl)C=C1</td>\n",
       "    </tr>\n",
       "    <tr>\n",
       "      <th>1</th>\n",
       "      <td>DTXSID8020961</td>\n",
       "      <td>4-Nitroaniline</td>\n",
       "      <td>NC1=CC=C(C=C1)[N+]([O-])=O</td>\n",
       "      <td>NC1=CC=C(C=C1)[N+]([O-])=O</td>\n",
       "    </tr>\n",
       "    <tr>\n",
       "      <th>2</th>\n",
       "      <td>DTXSID0021834</td>\n",
       "      <td>4-Nitrophenol</td>\n",
       "      <td>OC1=CC=C(C=C1)[N+]([O-])=O</td>\n",
       "      <td>OC1=CC=C(C=C1)[N+]([O-])=O</td>\n",
       "    </tr>\n",
       "    <tr>\n",
       "      <th>3</th>\n",
       "      <td>DTXSID2044347</td>\n",
       "      <td>4'-Methoxyacetophenone</td>\n",
       "      <td>COC1=CC=C(C=C1)C(C)=O</td>\n",
       "      <td>COC1=CC=C(C=C1)C(C)=O</td>\n",
       "    </tr>\n",
       "    <tr>\n",
       "      <th>4</th>\n",
       "      <td>DTXSID4025745</td>\n",
       "      <td>4-Nitrobenzyl chloride</td>\n",
       "      <td>[O-][N+](=O)C1=CC=C(CCl)C=C1</td>\n",
       "      <td>[O-][N+](=O)C1=CC=C(CCl)C=C1</td>\n",
       "    </tr>\n",
       "  </tbody>\n",
       "</table>\n",
       "</div>"
      ],
      "text/plain": [
       "          DTXSID           PREFERRED_NAME                        SMILES  \\\n",
       "0  DTXSID5020281  1-Chloro-4-nitrobenzene   [O-][N+](=O)C1=CC=C(Cl)C=C1   \n",
       "1  DTXSID8020961           4-Nitroaniline    NC1=CC=C(C=C1)[N+]([O-])=O   \n",
       "2  DTXSID0021834            4-Nitrophenol    OC1=CC=C(C=C1)[N+]([O-])=O   \n",
       "3  DTXSID2044347   4'-Methoxyacetophenone         COC1=CC=C(C=C1)C(C)=O   \n",
       "4  DTXSID4025745   4-Nitrobenzyl chloride  [O-][N+](=O)C1=CC=C(CCl)C=C1   \n",
       "\n",
       "              QSAR_READY_SMILES  \n",
       "0   [O-][N+](=O)C1=CC=C(Cl)C=C1  \n",
       "1    NC1=CC=C(C=C1)[N+]([O-])=O  \n",
       "2    OC1=CC=C(C=C1)[N+]([O-])=O  \n",
       "3         COC1=CC=C(C=C1)C(C)=O  \n",
       "4  [O-][N+](=O)C1=CC=C(CCl)C=C1  "
      ]
     },
     "execution_count": 9,
     "metadata": {},
     "output_type": "execute_result"
    }
   ],
   "source": [
    "#View the first few lines of the dataset\n",
    "\n",
    "CMO.head()"
   ]
  },
  {
   "cell_type": "code",
   "execution_count": 10,
   "metadata": {},
   "outputs": [
    {
     "data": {
      "text/plain": [
       "(7011, 4)"
      ]
     },
     "execution_count": 10,
     "metadata": {},
     "output_type": "execute_result"
    }
   ],
   "source": [
    "#check out the shape of the dataset\n",
    "\n",
    "CMO.shape"
   ]
  },
  {
   "cell_type": "code",
   "execution_count": 11,
   "metadata": {},
   "outputs": [],
   "source": [
    "#Filter to remove records where no SMILES are available\n",
    "\n",
    "CHM0 = CMO[CMO[\"SMILES\"]!='-']"
   ]
  },
  {
   "cell_type": "code",
   "execution_count": 12,
   "metadata": {},
   "outputs": [],
   "source": [
    "#Compute Morgan Fingerprints using RDKit"
   ]
  },
  {
   "cell_type": "code",
   "execution_count": 13,
   "metadata": {},
   "outputs": [
    {
     "name": "stderr",
     "output_type": "stream",
     "text": [
      "RDKit ERROR: [22:02:52] Explicit valence for atom # 3 O, 3, is greater than permitted\n"
     ]
    }
   ],
   "source": [
    "MOLS = dict(zip(CHM0['DTXSID'], CHM0['SMILES']))\n",
    "MOLS = {k:Chem.MolFromSmiles(v) for k,v in MOLS.items()}\n",
    "MOLS = {i:j for i,j in MOLS.items() if j}\n",
    "FP0 = pd.DataFrame([np.array(AllChem.GetMorganFingerprintAsBitVect(i,3,1024)) for i in MOLS.values()])\n",
    "FP0.index=MOLS.keys()\n",
    "FP0.columns = ['mrgn_%d'%i for i in FP0.columns]"
   ]
  },
  {
   "cell_type": "code",
   "execution_count": 14,
   "metadata": {},
   "outputs": [
    {
     "data": {
      "image/png": "[encoded data removed]",
      "text/plain": [
       "<rdkit.Chem.rdchem.Mol at 0x7f5c1e87c8e0>"
      ]
     },
     "execution_count": 14,
     "metadata": {},
     "output_type": "execute_result"
    }
   ],
   "source": [
    "#Show the first structure in the MOLS dict\n",
    "MOLS['DTXSID5020281']"
   ]
  },
  {
   "cell_type": "code",
   "execution_count": 15,
   "metadata": {},
   "outputs": [
    {
     "data": {
      "text/html": [
       "<div>\n",
       "<style scoped>\n",
       "    .dataframe tbody tr th:only-of-type {\n",
       "        vertical-align: middle;\n",
       "    }\n",
       "\n",
       "    .dataframe tbody tr th {\n",
       "        vertical-align: top;\n",
       "    }\n",
       "\n",
       "    .dataframe thead th {\n",
       "        text-align: right;\n",
       "    }\n",
       "</style>\n",
       "<table border=\"1\" class=\"dataframe\">\n",
       "  <thead>\n",
       "    <tr style=\"text-align: right;\">\n",
       "      <th></th>\n",
       "      <th>mrgn_0</th>\n",
       "      <th>mrgn_1</th>\n",
       "      <th>mrgn_2</th>\n",
       "      <th>mrgn_3</th>\n",
       "      <th>mrgn_4</th>\n",
       "      <th>mrgn_5</th>\n",
       "      <th>mrgn_6</th>\n",
       "      <th>mrgn_7</th>\n",
       "      <th>mrgn_8</th>\n",
       "      <th>mrgn_9</th>\n",
       "      <th>...</th>\n",
       "      <th>mrgn_1014</th>\n",
       "      <th>mrgn_1015</th>\n",
       "      <th>mrgn_1016</th>\n",
       "      <th>mrgn_1017</th>\n",
       "      <th>mrgn_1018</th>\n",
       "      <th>mrgn_1019</th>\n",
       "      <th>mrgn_1020</th>\n",
       "      <th>mrgn_1021</th>\n",
       "      <th>mrgn_1022</th>\n",
       "      <th>mrgn_1023</th>\n",
       "    </tr>\n",
       "  </thead>\n",
       "  <tbody>\n",
       "    <tr>\n",
       "      <th>DTXSID5020281</th>\n",
       "      <td>0</td>\n",
       "      <td>0</td>\n",
       "      <td>0</td>\n",
       "      <td>0</td>\n",
       "      <td>0</td>\n",
       "      <td>0</td>\n",
       "      <td>0</td>\n",
       "      <td>0</td>\n",
       "      <td>0</td>\n",
       "      <td>0</td>\n",
       "      <td>...</td>\n",
       "      <td>0</td>\n",
       "      <td>0</td>\n",
       "      <td>0</td>\n",
       "      <td>0</td>\n",
       "      <td>0</td>\n",
       "      <td>0</td>\n",
       "      <td>0</td>\n",
       "      <td>0</td>\n",
       "      <td>0</td>\n",
       "      <td>0</td>\n",
       "    </tr>\n",
       "    <tr>\n",
       "      <th>DTXSID8020961</th>\n",
       "      <td>0</td>\n",
       "      <td>0</td>\n",
       "      <td>0</td>\n",
       "      <td>0</td>\n",
       "      <td>0</td>\n",
       "      <td>0</td>\n",
       "      <td>0</td>\n",
       "      <td>0</td>\n",
       "      <td>0</td>\n",
       "      <td>0</td>\n",
       "      <td>...</td>\n",
       "      <td>0</td>\n",
       "      <td>0</td>\n",
       "      <td>0</td>\n",
       "      <td>0</td>\n",
       "      <td>0</td>\n",
       "      <td>0</td>\n",
       "      <td>0</td>\n",
       "      <td>0</td>\n",
       "      <td>0</td>\n",
       "      <td>0</td>\n",
       "    </tr>\n",
       "    <tr>\n",
       "      <th>DTXSID0021834</th>\n",
       "      <td>0</td>\n",
       "      <td>0</td>\n",
       "      <td>0</td>\n",
       "      <td>0</td>\n",
       "      <td>0</td>\n",
       "      <td>0</td>\n",
       "      <td>0</td>\n",
       "      <td>0</td>\n",
       "      <td>0</td>\n",
       "      <td>0</td>\n",
       "      <td>...</td>\n",
       "      <td>0</td>\n",
       "      <td>0</td>\n",
       "      <td>0</td>\n",
       "      <td>0</td>\n",
       "      <td>0</td>\n",
       "      <td>0</td>\n",
       "      <td>0</td>\n",
       "      <td>0</td>\n",
       "      <td>0</td>\n",
       "      <td>0</td>\n",
       "    </tr>\n",
       "    <tr>\n",
       "      <th>DTXSID2044347</th>\n",
       "      <td>0</td>\n",
       "      <td>0</td>\n",
       "      <td>0</td>\n",
       "      <td>0</td>\n",
       "      <td>0</td>\n",
       "      <td>0</td>\n",
       "      <td>0</td>\n",
       "      <td>0</td>\n",
       "      <td>0</td>\n",
       "      <td>0</td>\n",
       "      <td>...</td>\n",
       "      <td>0</td>\n",
       "      <td>0</td>\n",
       "      <td>0</td>\n",
       "      <td>1</td>\n",
       "      <td>0</td>\n",
       "      <td>0</td>\n",
       "      <td>0</td>\n",
       "      <td>0</td>\n",
       "      <td>0</td>\n",
       "      <td>0</td>\n",
       "    </tr>\n",
       "    <tr>\n",
       "      <th>DTXSID4025745</th>\n",
       "      <td>0</td>\n",
       "      <td>0</td>\n",
       "      <td>0</td>\n",
       "      <td>0</td>\n",
       "      <td>0</td>\n",
       "      <td>0</td>\n",
       "      <td>0</td>\n",
       "      <td>0</td>\n",
       "      <td>0</td>\n",
       "      <td>0</td>\n",
       "      <td>...</td>\n",
       "      <td>0</td>\n",
       "      <td>0</td>\n",
       "      <td>0</td>\n",
       "      <td>0</td>\n",
       "      <td>0</td>\n",
       "      <td>0</td>\n",
       "      <td>0</td>\n",
       "      <td>0</td>\n",
       "      <td>0</td>\n",
       "      <td>0</td>\n",
       "    </tr>\n",
       "  </tbody>\n",
       "</table>\n",
       "<p>5 rows × 1024 columns</p>\n",
       "</div>"
      ],
      "text/plain": [
       "               mrgn_0  mrgn_1  mrgn_2  mrgn_3  mrgn_4  mrgn_5  mrgn_6  mrgn_7  \\\n",
       "DTXSID5020281       0       0       0       0       0       0       0       0   \n",
       "DTXSID8020961       0       0       0       0       0       0       0       0   \n",
       "DTXSID0021834       0       0       0       0       0       0       0       0   \n",
       "DTXSID2044347       0       0       0       0       0       0       0       0   \n",
       "DTXSID4025745       0       0       0       0       0       0       0       0   \n",
       "\n",
       "               mrgn_8  mrgn_9  ...  mrgn_1014  mrgn_1015  mrgn_1016  \\\n",
       "DTXSID5020281       0       0  ...          0          0          0   \n",
       "DTXSID8020961       0       0  ...          0          0          0   \n",
       "DTXSID0021834       0       0  ...          0          0          0   \n",
       "DTXSID2044347       0       0  ...          0          0          0   \n",
       "DTXSID4025745       0       0  ...          0          0          0   \n",
       "\n",
       "               mrgn_1017  mrgn_1018  mrgn_1019  mrgn_1020  mrgn_1021  \\\n",
       "DTXSID5020281          0          0          0          0          0   \n",
       "DTXSID8020961          0          0          0          0          0   \n",
       "DTXSID0021834          0          0          0          0          0   \n",
       "DTXSID2044347          1          0          0          0          0   \n",
       "DTXSID4025745          0          0          0          0          0   \n",
       "\n",
       "               mrgn_1022  mrgn_1023  \n",
       "DTXSID5020281          0          0  \n",
       "DTXSID8020961          0          0  \n",
       "DTXSID0021834          0          0  \n",
       "DTXSID2044347          0          0  \n",
       "DTXSID4025745          0          0  \n",
       "\n",
       "[5 rows x 1024 columns]"
      ]
     },
     "execution_count": 15,
     "metadata": {},
     "output_type": "execute_result"
    }
   ],
   "source": [
    "#Check out the first few rows of the fingerprint df\n",
    "\n",
    "FP0.head()"
   ]
  },
  {
   "cell_type": "code",
   "execution_count": 17,
   "metadata": {},
   "outputs": [
    {
     "data": {
      "text/plain": [
       "<AxesSubplot:>"
      ]
     },
     "execution_count": 17,
     "metadata": {},
     "output_type": "execute_result"
    },
    {
     "data": {
      "image/png": "[encoded data removed]",
      "text/plain": [
       "<Figure size 432x288 with 1 Axes>"
      ]
     },
     "metadata": {
      "needs_background": "light"
     },
     "output_type": "display_data"
    }
   ],
   "source": [
    "#Import LD50 data and view its distribution\n",
    "\n",
    "POD0 = pd.read_csv(raw_dir+'small_acute_processed.csv').set_index('dsstox_sid')\n",
    "POD0.LD50_LM.hist(bins=15,rwidth=0.9,color='orange')"
   ]
  },
  {
   "cell_type": "code",
   "execution_count": 18,
   "metadata": {},
   "outputs": [],
   "source": [
    "I = FP0.index.intersection(POD0.index)\n",
    "X,Y = FP0.loc[I],POD0.loc[I,'LD50_LM']"
   ]
  },
  {
   "cell_type": "code",
   "execution_count": 62,
   "metadata": {},
   "outputs": [
    {
     "data": {
      "text/html": [
       "<div>\n",
       "<style scoped>\n",
       "    .dataframe tbody tr th:only-of-type {\n",
       "        vertical-align: middle;\n",
       "    }\n",
       "\n",
       "    .dataframe tbody tr th {\n",
       "        vertical-align: top;\n",
       "    }\n",
       "\n",
       "    .dataframe thead th {\n",
       "        text-align: right;\n",
       "    }\n",
       "</style>\n",
       "<table border=\"1\" class=\"dataframe\">\n",
       "  <thead>\n",
       "    <tr style=\"text-align: right;\">\n",
       "      <th></th>\n",
       "      <th>very_toxic</th>\n",
       "      <th>nontoxic</th>\n",
       "      <th>LD50_mgkg</th>\n",
       "      <th>EPA_category</th>\n",
       "      <th>GHS_category</th>\n",
       "      <th>casrn</th>\n",
       "      <th>mol_weight</th>\n",
       "      <th>LD50_LM</th>\n",
       "    </tr>\n",
       "    <tr>\n",
       "      <th>dsstox_sid</th>\n",
       "      <th></th>\n",
       "      <th></th>\n",
       "      <th></th>\n",
       "      <th></th>\n",
       "      <th></th>\n",
       "      <th></th>\n",
       "      <th></th>\n",
       "      <th></th>\n",
       "    </tr>\n",
       "  </thead>\n",
       "  <tbody>\n",
       "    <tr>\n",
       "      <th>DTXSID5020281</th>\n",
       "      <td>False</td>\n",
       "      <td>False</td>\n",
       "      <td>460.0</td>\n",
       "      <td>2.0</td>\n",
       "      <td>4.0</td>\n",
       "      <td>100-00-5</td>\n",
       "      <td>157.550003</td>\n",
       "      <td>-0.465339</td>\n",
       "    </tr>\n",
       "    <tr>\n",
       "      <th>DTXSID8020961</th>\n",
       "      <td>False</td>\n",
       "      <td>False</td>\n",
       "      <td>750.0</td>\n",
       "      <td>3.0</td>\n",
       "      <td>4.0</td>\n",
       "      <td>100-01-6</td>\n",
       "      <td>138.126007</td>\n",
       "      <td>-0.734786</td>\n",
       "    </tr>\n",
       "    <tr>\n",
       "      <th>DTXSID0021834</th>\n",
       "      <td>False</td>\n",
       "      <td>False</td>\n",
       "      <td>170.0</td>\n",
       "      <td>2.0</td>\n",
       "      <td>3.0</td>\n",
       "      <td>100-02-7</td>\n",
       "      <td>139.110001</td>\n",
       "      <td>-0.087091</td>\n",
       "    </tr>\n",
       "    <tr>\n",
       "      <th>DTXSID2044347</th>\n",
       "      <td>False</td>\n",
       "      <td>False</td>\n",
       "      <td>1720.0</td>\n",
       "      <td>3.0</td>\n",
       "      <td>4.0</td>\n",
       "      <td>100-06-1</td>\n",
       "      <td>150.177002</td>\n",
       "      <td>-1.058925</td>\n",
       "    </tr>\n",
       "    <tr>\n",
       "      <th>DTXSID4025745</th>\n",
       "      <td>False</td>\n",
       "      <td>False</td>\n",
       "      <td>1809.0</td>\n",
       "      <td>3.0</td>\n",
       "      <td>4.0</td>\n",
       "      <td>100-14-1</td>\n",
       "      <td>171.580002</td>\n",
       "      <td>-1.022972</td>\n",
       "    </tr>\n",
       "  </tbody>\n",
       "</table>\n",
       "</div>"
      ],
      "text/plain": [
       "               very_toxic  nontoxic  LD50_mgkg  EPA_category  GHS_category  \\\n",
       "dsstox_sid                                                                   \n",
       "DTXSID5020281       False     False      460.0           2.0           4.0   \n",
       "DTXSID8020961       False     False      750.0           3.0           4.0   \n",
       "DTXSID0021834       False     False      170.0           2.0           3.0   \n",
       "DTXSID2044347       False     False     1720.0           3.0           4.0   \n",
       "DTXSID4025745       False     False     1809.0           3.0           4.0   \n",
       "\n",
       "                  casrn  mol_weight   LD50_LM  \n",
       "dsstox_sid                                     \n",
       "DTXSID5020281  100-00-5  157.550003 -0.465339  \n",
       "DTXSID8020961  100-01-6  138.126007 -0.734786  \n",
       "DTXSID0021834  100-02-7  139.110001 -0.087091  \n",
       "DTXSID2044347  100-06-1  150.177002 -1.058925  \n",
       "DTXSID4025745  100-14-1  171.580002 -1.022972  "
      ]
     },
     "execution_count": 62,
     "metadata": {},
     "output_type": "execute_result"
    }
   ],
   "source": [
    "POD0.head()"
   ]
  },
  {
   "cell_type": "code",
   "execution_count": 19,
   "metadata": {},
   "outputs": [],
   "source": [
    "#Import genra modules"
   ]
  },
  {
   "cell_type": "code",
   "execution_count": 20,
   "metadata": {},
   "outputs": [],
   "source": [
    "import genra"
   ]
  },
  {
   "cell_type": "code",
   "execution_count": 21,
   "metadata": {},
   "outputs": [],
   "source": [
    "from genra.rax.skl.reg import GenRAPredValue"
   ]
  },
  {
   "cell_type": "code",
   "execution_count": 22,
   "metadata": {},
   "outputs": [],
   "source": [
    "from sklearn.metrics import make_scorer,explained_variance_score,roc_auc_score,r2_score,f1_score,accuracy_score,precision_score,recall_score\n",
    "from sklearn.model_selection import GridSearchCV\n",
    "from sklearn.model_selection import LeaveOneOut"
   ]
  },
  {
   "cell_type": "code",
   "execution_count": 23,
   "metadata": {},
   "outputs": [
    {
     "name": "stdout",
     "output_type": "stream",
     "text": [
      "Fitting 5 folds for each of 28 candidates, totalling 140 fits\n"
     ]
    },
    {
     "name": "stderr",
     "output_type": "stream",
     "text": [
      "/home/grace/anaconda3/envs/UNC_RAx_Tutorial/lib/python3.8/site-packages/sklearn/base.py:193: FutureWarning: From version 0.24, get_params will raise an AttributeError if a parameter cannot be retrieved as an instance attribute. Previously it would return None.\n",
      "  warnings.warn('From version 0.24, get_params will raise an '\n",
      "[Parallel(n_jobs=-1)]: Using backend LokyBackend with 4 concurrent workers.\n",
      "[Parallel(n_jobs=-1)]: Done  42 tasks      | elapsed:   53.6s\n",
      "[Parallel(n_jobs=-1)]: Done 140 out of 140 | elapsed:  1.8min finished\n"
     ]
    }
   ],
   "source": [
    "GP1 = GenRAPredValue(algorithm='brute')\n",
    "\n",
    "params={'n_neighbors': range(1,15),\n",
    "        'metric':['jaccard','euclidean']\n",
    "       }\n",
    "\n",
    "\n",
    "Grid3= GridSearchCV(estimator=GP1,param_grid=params,\n",
    "                    n_jobs=-1,cv=5,\n",
    "                    verbose=1,\n",
    "                    scoring=make_scorer(r2_score))\n",
    "\n",
    "\n",
    "Best3=Grid3.fit(X,Y)"
   ]
  },
  {
   "cell_type": "code",
   "execution_count": 24,
   "metadata": {},
   "outputs": [
    {
     "name": "stdout",
     "output_type": "stream",
     "text": [
      "Best: 0.4281329280846896 {'metric': 'jaccard', 'n_neighbors': 8}\n"
     ]
    },
    {
     "data": {
      "image/png": "[encoded data removed]",
      "text/plain": [
       "<Figure size 300.75x216 with 1 Axes>"
      ]
     },
     "metadata": {
      "needs_background": "light"
     },
     "output_type": "display_data"
    }
   ],
   "source": [
    "P = pd.DataFrame(Best3.cv_results_['params'])\n",
    "P.insert(2,'score_mn',Best3.cv_results_['mean_test_score'])\n",
    "P.insert(3,'score_std',Best3.cv_results_['std_test_score'])\n",
    "\n",
    "g=sns.FacetGrid(P,hue='metric')\n",
    "g.map(plt.plot,'n_neighbors','score_mn')\n",
    "g.set(ylim=(0,1.0),xlabel='k',ylabel='$R^2$')\n",
    "g.add_legend()\n",
    "print(\"Best:\", Best3.best_score_,Best3.best_params_)"
   ]
  },
  {
   "cell_type": "code",
   "execution_count": 25,
   "metadata": {},
   "outputs": [
    {
     "name": "stderr",
     "output_type": "stream",
     "text": [
      "[Parallel(n_jobs=-1)]: Using backend LokyBackend with 4 concurrent workers.\n",
      "/home/grace/anaconda3/envs/UNC_RAx_Tutorial/lib/python3.8/site-packages/sklearn/base.py:193: FutureWarning: From version 0.24, get_params will raise an AttributeError if a parameter cannot be retrieved as an instance attribute. Previously it would return None.\n",
      "  warnings.warn('From version 0.24, get_params will raise an '\n",
      "[Parallel(n_jobs=-1)]: Done  42 tasks      | elapsed:    1.7s\n",
      "[Parallel(n_jobs=-1)]: Done 192 tasks      | elapsed:    6.7s\n",
      "[Parallel(n_jobs=-1)]: Done 442 tasks      | elapsed:   15.0s\n",
      "[Parallel(n_jobs=-1)]: Done 792 tasks      | elapsed:   26.5s\n",
      "[Parallel(n_jobs=-1)]: Done 1242 tasks      | elapsed:   41.6s\n",
      "[Parallel(n_jobs=-1)]: Done 1792 tasks      | elapsed:   59.2s\n",
      "[Parallel(n_jobs=-1)]: Done 2442 tasks      | elapsed:  1.3min\n",
      "[Parallel(n_jobs=-1)]: Done 3192 tasks      | elapsed:  1.7min\n",
      "[Parallel(n_jobs=-1)]: Done 4042 tasks      | elapsed:  2.2min\n",
      "[Parallel(n_jobs=-1)]: Done 4992 tasks      | elapsed:  2.8min\n",
      "[Parallel(n_jobs=-1)]: Done 6042 tasks      | elapsed:  3.4min\n",
      "[Parallel(n_jobs=-1)]: Done 6975 out of 6975 | elapsed:  4.0min finished\n"
     ]
    }
   ],
   "source": [
    "from sklearn.model_selection import cross_val_predict,LeaveOneOut\n",
    "from genra.rax.skl.reg import *\n",
    "\n",
    "\n",
    "GC1 = GenRAPredValue(n_neighbors=8,algorithm='brute',metric='jaccard',n_jobs=-1)\n",
    "\n",
    "Loo = LeaveOneOut()\n",
    "Loo.get_n_splits(X)\n",
    "\n",
    "Yp = cross_val_predict(GC1,X,Y,cv=LeaveOneOut(),n_jobs=-1,verbose=True)"
   ]
  },
  {
   "cell_type": "code",
   "execution_count": 26,
   "metadata": {},
   "outputs": [],
   "source": [
    "Perf1 = pd.DataFrame(dict(Y_true=Y,Y_pred=Yp))"
   ]
  },
  {
   "cell_type": "code",
   "execution_count": 27,
   "metadata": {},
   "outputs": [
    {
     "name": "stdout",
     "output_type": "stream",
     "text": [
      "$R^2$ score= 0.517\n",
      "RMSE=0.613\n",
      "\n"
     ]
    }
   ],
   "source": [
    "print(\"$R^2$ score= {:.3f}\\nRMSE={:0.3f}\\n\"\\\n",
    "              .format(r2_score(Perf1['Y_true'],Perf1['Y_pred']),\n",
    "                      np.sqrt(((Perf1['Y_true']-Perf1['Y_pred'])**2).mean())))\n"
   ]
  },
  {
   "cell_type": "code",
   "execution_count": 28,
   "metadata": {},
   "outputs": [],
   "source": [
    "Perf1['residual']=(Perf1['Y_pred']-Perf1['Y_true'])\n",
    "Perf1['mse']=(Perf1['Y_true']-Perf1['Y_pred'])**2"
   ]
  },
  {
   "cell_type": "code",
   "execution_count": 29,
   "metadata": {},
   "outputs": [
    {
     "data": {
      "image/png": "[encoded data removed]",
      "text/plain": [
       "<Figure size 1080x1080 with 1 Axes>"
      ]
     },
     "metadata": {},
     "output_type": "display_data"
    }
   ],
   "source": [
    "import seaborn as sns\n",
    "\n",
    "sns.set(style='whitegrid',font_scale=2.0)\n",
    "\n",
    "g=sns.lmplot(x='Y_true',y='Y_pred',data=Perf1,height=15,aspect=1.0)\n",
    "txt = \"$R^2$ score= {:.3f}\\nRMSE={:0.3f}\\n\"\\\n",
    "              .format(r2_score(Perf1['Y_true'],Perf1['Y_pred']),\n",
    "                      np.sqrt(((Perf1['Y_true']-Perf1['Y_pred'])**2).mean()))\n",
    " \n",
    "\n",
    "for p in g.axes:\n",
    "    p[0].text(-2, 2, txt, horizontalalignment='left', size='medium', color='black', weight='semibold')"
   ]
  },
  {
   "cell_type": "code",
   "execution_count": 63,
   "metadata": {},
   "outputs": [],
   "source": [
    "# Extract neighbours for a specific chemical: 'DTXSID5020281'"
   ]
  },
  {
   "cell_type": "code",
   "execution_count": 32,
   "metadata": {},
   "outputs": [],
   "source": [
    "from genra.rax.viz.nn import *"
   ]
  },
  {
   "cell_type": "code",
   "execution_count": 43,
   "metadata": {},
   "outputs": [],
   "source": [
    "CHM_info = FP0.reset_index().rename(columns = {'index': 'DTXSID'}).merge(CHM0, on = 'DTXSID')"
   ]
  },
  {
   "cell_type": "code",
   "execution_count": 41,
   "metadata": {},
   "outputs": [
    {
     "data": {
      "text/html": [
       "<div>\n",
       "<style scoped>\n",
       "    .dataframe tbody tr th:only-of-type {\n",
       "        vertical-align: middle;\n",
       "    }\n",
       "\n",
       "    .dataframe tbody tr th {\n",
       "        vertical-align: top;\n",
       "    }\n",
       "\n",
       "    .dataframe thead th {\n",
       "        text-align: right;\n",
       "    }\n",
       "</style>\n",
       "<table border=\"1\" class=\"dataframe\">\n",
       "  <thead>\n",
       "    <tr style=\"text-align: right;\">\n",
       "      <th></th>\n",
       "      <th>DTXSID</th>\n",
       "      <th>PREFERRED_NAME</th>\n",
       "      <th>SMILES</th>\n",
       "      <th>QSAR_READY_SMILES</th>\n",
       "    </tr>\n",
       "  </thead>\n",
       "  <tbody>\n",
       "    <tr>\n",
       "      <th>0</th>\n",
       "      <td>DTXSID5020281</td>\n",
       "      <td>1-Chloro-4-nitrobenzene</td>\n",
       "      <td>[O-][N+](=O)C1=CC=C(Cl)C=C1</td>\n",
       "      <td>[O-][N+](=O)C1=CC=C(Cl)C=C1</td>\n",
       "    </tr>\n",
       "    <tr>\n",
       "      <th>1</th>\n",
       "      <td>DTXSID8020961</td>\n",
       "      <td>4-Nitroaniline</td>\n",
       "      <td>NC1=CC=C(C=C1)[N+]([O-])=O</td>\n",
       "      <td>NC1=CC=C(C=C1)[N+]([O-])=O</td>\n",
       "    </tr>\n",
       "    <tr>\n",
       "      <th>2</th>\n",
       "      <td>DTXSID0021834</td>\n",
       "      <td>4-Nitrophenol</td>\n",
       "      <td>OC1=CC=C(C=C1)[N+]([O-])=O</td>\n",
       "      <td>OC1=CC=C(C=C1)[N+]([O-])=O</td>\n",
       "    </tr>\n",
       "    <tr>\n",
       "      <th>3</th>\n",
       "      <td>DTXSID2044347</td>\n",
       "      <td>4'-Methoxyacetophenone</td>\n",
       "      <td>COC1=CC=C(C=C1)C(C)=O</td>\n",
       "      <td>COC1=CC=C(C=C1)C(C)=O</td>\n",
       "    </tr>\n",
       "    <tr>\n",
       "      <th>4</th>\n",
       "      <td>DTXSID4025745</td>\n",
       "      <td>4-Nitrobenzyl chloride</td>\n",
       "      <td>[O-][N+](=O)C1=CC=C(CCl)C=C1</td>\n",
       "      <td>[O-][N+](=O)C1=CC=C(CCl)C=C1</td>\n",
       "    </tr>\n",
       "  </tbody>\n",
       "</table>\n",
       "</div>"
      ],
      "text/plain": [
       "          DTXSID           PREFERRED_NAME                        SMILES  \\\n",
       "0  DTXSID5020281  1-Chloro-4-nitrobenzene   [O-][N+](=O)C1=CC=C(Cl)C=C1   \n",
       "1  DTXSID8020961           4-Nitroaniline    NC1=CC=C(C=C1)[N+]([O-])=O   \n",
       "2  DTXSID0021834            4-Nitrophenol    OC1=CC=C(C=C1)[N+]([O-])=O   \n",
       "3  DTXSID2044347   4'-Methoxyacetophenone         COC1=CC=C(C=C1)C(C)=O   \n",
       "4  DTXSID4025745   4-Nitrobenzyl chloride  [O-][N+](=O)C1=CC=C(CCl)C=C1   \n",
       "\n",
       "              QSAR_READY_SMILES  \n",
       "0   [O-][N+](=O)C1=CC=C(Cl)C=C1  \n",
       "1    NC1=CC=C(C=C1)[N+]([O-])=O  \n",
       "2    OC1=CC=C(C=C1)[N+]([O-])=O  \n",
       "3         COC1=CC=C(C=C1)C(C)=O  \n",
       "4  [O-][N+](=O)C1=CC=C(CCl)C=C1  "
      ]
     },
     "execution_count": 41,
     "metadata": {},
     "output_type": "execute_result"
    }
   ],
   "source": [
    "CHM0.head()"
   ]
  },
  {
   "cell_type": "code",
   "execution_count": 48,
   "metadata": {},
   "outputs": [],
   "source": [
    "CHM_info = CHM_info.set_index('DTXSID')"
   ]
  },
  {
   "cell_type": "code",
   "execution_count": 53,
   "metadata": {},
   "outputs": [],
   "source": [
    "CHM_info.index.rename('ID', inplace = True)"
   ]
  },
  {
   "cell_type": "code",
   "execution_count": 60,
   "metadata": {},
   "outputs": [],
   "source": [
    "CHM_info.rename(columns = {'SMILES': 'smiles', 'PREFERRED_NAME': 'chemical_name'}, inplace = True)"
   ]
  },
  {
   "cell_type": "code",
   "execution_count": 61,
   "metadata": {},
   "outputs": [
    {
     "name": "stderr",
     "output_type": "stream",
     "text": [
      "/home/grace/anaconda3/envs/UNC_RAx_Tutorial/lib/python3.8/site-packages/pandas/core/indexing.py:1597: SettingWithCopyWarning: \n",
      "A value is trying to be set on a copy of a slice from a DataFrame.\n",
      "Try using .loc[row_indexer,col_indexer] = value instead\n",
      "\n",
      "See the caveats in the documentation: https://pandas.pydata.org/pandas-docs/stable/user_guide/indexing.html#returning-a-view-versus-a-copy\n",
      "  self.obj[key] = value\n",
      "/home/grace/anaconda3/envs/UNC_RAx_Tutorial/lib/python3.8/site-packages/pandas/core/indexing.py:1676: SettingWithCopyWarning: \n",
      "A value is trying to be set on a copy of a slice from a DataFrame.\n",
      "Try using .loc[row_indexer,col_indexer] = value instead\n",
      "\n",
      "See the caveats in the documentation: https://pandas.pydata.org/pandas-docs/stable/user_guide/indexing.html#returning-a-view-versus-a-copy\n",
      "  self._setitem_single_column(ilocs[0], value, pi)\n"
     ]
    },
    {
     "data": {
      "image/png": "[encoded data removed]",
      "text/plain": [
       "<Figure size 720x720 with 1 Axes>"
      ]
     },
     "metadata": {},
     "output_type": "display_data"
    }
   ],
   "source": [
    "fig = plt.figure(figsize=(10,10))\n",
    "ax = plt.subplot(1,1,1)\n",
    "ax.set_axis_off()\n",
    "ax.set_xlim(-600,600)\n",
    "ax.set_ylim(-600,600)\n",
    "target_id = 'DTXSID5020281'\n",
    "GV = GenRAViewNN(rs=1.2,lw=0.2,ax=ax,th_tot=1.9*math.pi,\n",
    "                 chm_name_font_size=10,\n",
    "                   chm_sz=(180,180),r_min=200)\n",
    "GV.loadData(FP0,np.ones(FP0.shape[0]),Info=CHM_info)\n",
    "GV.draw(target_id,k=8)"
   ]
  },
  {
   "cell_type": "code",
   "execution_count": 69,
   "metadata": {},
   "outputs": [],
   "source": [
    "#target_id = 'DTXSID5020281'"
   ]
  },
  {
   "cell_type": "code",
   "execution_count": 64,
   "metadata": {},
   "outputs": [
    {
     "data": {
      "text/plain": [
       "0    DTXSID5020281\n",
       "1    DTXSID0021834\n",
       "2    DTXSID4025745\n",
       "3    DTXSID5023792\n",
       "4    DTXSID8020961\n",
       "5    DTXSID3027320\n",
       "6    DTXSID9025742\n",
       "7    DTXSID8022086\n",
       "8    DTXSID5022061\n",
       "Name: ID, dtype: object"
      ]
     },
     "execution_count": 64,
     "metadata": {},
     "output_type": "execute_result"
    }
   ],
   "source": [
    "# The nearest neighbours of target_id: 'DTXSID5020281' are found by inspecting the GV object:\n",
    "\n",
    "GV._NNi.ID"
   ]
  },
  {
   "cell_type": "code",
   "execution_count": 72,
   "metadata": {},
   "outputs": [
    {
     "data": {
      "text/html": [
       "<div>\n",
       "<style scoped>\n",
       "    .dataframe tbody tr th:only-of-type {\n",
       "        vertical-align: middle;\n",
       "    }\n",
       "\n",
       "    .dataframe tbody tr th {\n",
       "        vertical-align: top;\n",
       "    }\n",
       "\n",
       "    .dataframe thead th {\n",
       "        text-align: right;\n",
       "    }\n",
       "</style>\n",
       "<table border=\"1\" class=\"dataframe\">\n",
       "  <thead>\n",
       "    <tr style=\"text-align: right;\">\n",
       "      <th></th>\n",
       "      <th>DTXSID</th>\n",
       "      <th>PREFERRED_NAME</th>\n",
       "      <th>SMILES</th>\n",
       "      <th>QSAR_READY_SMILES</th>\n",
       "    </tr>\n",
       "  </thead>\n",
       "  <tbody>\n",
       "    <tr>\n",
       "      <th>0</th>\n",
       "      <td>DTXSID5020281</td>\n",
       "      <td>1-Chloro-4-nitrobenzene</td>\n",
       "      <td>[O-][N+](=O)C1=CC=C(Cl)C=C1</td>\n",
       "      <td>[O-][N+](=O)C1=CC=C(Cl)C=C1</td>\n",
       "    </tr>\n",
       "    <tr>\n",
       "      <th>1</th>\n",
       "      <td>DTXSID8020961</td>\n",
       "      <td>4-Nitroaniline</td>\n",
       "      <td>NC1=CC=C(C=C1)[N+]([O-])=O</td>\n",
       "      <td>NC1=CC=C(C=C1)[N+]([O-])=O</td>\n",
       "    </tr>\n",
       "    <tr>\n",
       "      <th>2</th>\n",
       "      <td>DTXSID0021834</td>\n",
       "      <td>4-Nitrophenol</td>\n",
       "      <td>OC1=CC=C(C=C1)[N+]([O-])=O</td>\n",
       "      <td>OC1=CC=C(C=C1)[N+]([O-])=O</td>\n",
       "    </tr>\n",
       "    <tr>\n",
       "      <th>4</th>\n",
       "      <td>DTXSID4025745</td>\n",
       "      <td>4-Nitrobenzyl chloride</td>\n",
       "      <td>[O-][N+](=O)C1=CC=C(CCl)C=C1</td>\n",
       "      <td>[O-][N+](=O)C1=CC=C(CCl)C=C1</td>\n",
       "    </tr>\n",
       "    <tr>\n",
       "      <th>929</th>\n",
       "      <td>DTXSID9025742</td>\n",
       "      <td>4-Nitrobenzoyl chloride</td>\n",
       "      <td>[O-][N+](=O)C1=CC=C(C=C1)C(Cl)=O</td>\n",
       "      <td>[O-][N+](=O)C1=CC=C(C=C1)C(Cl)=O</td>\n",
       "    </tr>\n",
       "    <tr>\n",
       "      <th>4482</th>\n",
       "      <td>DTXSID5022061</td>\n",
       "      <td>4-Nitrobenzaldehyde</td>\n",
       "      <td>[O-][N+](=O)C1=CC=C(C=O)C=C1</td>\n",
       "      <td>[O-][N+](=O)C1=CC=C(C=O)C=C1</td>\n",
       "    </tr>\n",
       "    <tr>\n",
       "      <th>24</th>\n",
       "      <td>DTXSID8022086</td>\n",
       "      <td>4-Nitrobenzamide</td>\n",
       "      <td>NC(=O)C1=CC=C(C=C1)[N+]([O-])=O</td>\n",
       "      <td>NC(=O)C1=CC=C(C=C1)[N+]([O-])=O</td>\n",
       "    </tr>\n",
       "    <tr>\n",
       "      <th>1241</th>\n",
       "      <td>DTXSID3027320</td>\n",
       "      <td>Sodium 4-nitrophenolate</td>\n",
       "      <td>[Na+].[O-]C1=CC=C(C=C1)[N+]([O-])=O</td>\n",
       "      <td>OC1=CC=C(C=C1)[N+]([O-])=O</td>\n",
       "    </tr>\n",
       "    <tr>\n",
       "      <th>1985</th>\n",
       "      <td>DTXSID5023792</td>\n",
       "      <td>4-Nitrotoluene</td>\n",
       "      <td>CC1=CC=C(C=C1)[N+]([O-])=O</td>\n",
       "      <td>CC1=CC=C(C=C1)[N+]([O-])=O</td>\n",
       "    </tr>\n",
       "  </tbody>\n",
       "</table>\n",
       "</div>"
      ],
      "text/plain": [
       "             DTXSID           PREFERRED_NAME  \\\n",
       "0     DTXSID5020281  1-Chloro-4-nitrobenzene   \n",
       "1     DTXSID8020961           4-Nitroaniline   \n",
       "2     DTXSID0021834            4-Nitrophenol   \n",
       "4     DTXSID4025745   4-Nitrobenzyl chloride   \n",
       "929   DTXSID9025742  4-Nitrobenzoyl chloride   \n",
       "4482  DTXSID5022061      4-Nitrobenzaldehyde   \n",
       "24    DTXSID8022086         4-Nitrobenzamide   \n",
       "1241  DTXSID3027320  Sodium 4-nitrophenolate   \n",
       "1985  DTXSID5023792           4-Nitrotoluene   \n",
       "\n",
       "                                   SMILES                 QSAR_READY_SMILES  \n",
       "0             [O-][N+](=O)C1=CC=C(Cl)C=C1       [O-][N+](=O)C1=CC=C(Cl)C=C1  \n",
       "1              NC1=CC=C(C=C1)[N+]([O-])=O        NC1=CC=C(C=C1)[N+]([O-])=O  \n",
       "2              OC1=CC=C(C=C1)[N+]([O-])=O        OC1=CC=C(C=C1)[N+]([O-])=O  \n",
       "4            [O-][N+](=O)C1=CC=C(CCl)C=C1      [O-][N+](=O)C1=CC=C(CCl)C=C1  \n",
       "929      [O-][N+](=O)C1=CC=C(C=C1)C(Cl)=O  [O-][N+](=O)C1=CC=C(C=C1)C(Cl)=O  \n",
       "4482         [O-][N+](=O)C1=CC=C(C=O)C=C1      [O-][N+](=O)C1=CC=C(C=O)C=C1  \n",
       "24        NC(=O)C1=CC=C(C=C1)[N+]([O-])=O   NC(=O)C1=CC=C(C=C1)[N+]([O-])=O  \n",
       "1241  [Na+].[O-]C1=CC=C(C=C1)[N+]([O-])=O        OC1=CC=C(C=C1)[N+]([O-])=O  \n",
       "1985           CC1=CC=C(C=C1)[N+]([O-])=O        CC1=CC=C(C=C1)[N+]([O-])=O  "
      ]
     },
     "execution_count": 72,
     "metadata": {},
     "output_type": "execute_result"
    }
   ],
   "source": [
    "#Look at the nearest neighbours from the chemical set\n",
    "\n",
    "CHM0[CHM0['DTXSID'].isin(GV._NNi.ID)]"
   ]
  },
  {
   "cell_type": "code",
   "execution_count": 76,
   "metadata": {},
   "outputs": [],
   "source": [
    "I = Y.index.intersection(GV._NNi.ID)"
   ]
  },
  {
   "cell_type": "code",
   "execution_count": 81,
   "metadata": {},
   "outputs": [],
   "source": [
    "Y_i  =Y.loc[I]"
   ]
  },
  {
   "cell_type": "code",
   "execution_count": 82,
   "metadata": {},
   "outputs": [
    {
     "data": {
      "text/plain": [
       "DTXSID5020281   -0.465339\n",
       "DTXSID8020961   -0.734786\n",
       "DTXSID0021834   -0.087091\n",
       "DTXSID4025745   -1.022972\n",
       "DTXSID9025742   -1.479704\n",
       "DTXSID5022061   -1.492773\n",
       "DTXSID8022086   -0.457143\n",
       "DTXSID3027320   -0.298076\n",
       "DTXSID5023792   -1.174596\n",
       "Name: LD50_LM, dtype: float64"
      ]
     },
     "execution_count": 82,
     "metadata": {},
     "output_type": "execute_result"
    }
   ],
   "source": [
    "# LD50_LM of neighbours\n",
    "Y_i"
   ]
  },
  {
   "cell_type": "code",
   "execution_count": 83,
   "metadata": {},
   "outputs": [],
   "source": [
    "X_i = X.loc[I]"
   ]
  },
  {
   "cell_type": "code",
   "execution_count": 84,
   "metadata": {},
   "outputs": [
    {
     "data": {
      "text/html": [
       "<div>\n",
       "<style scoped>\n",
       "    .dataframe tbody tr th:only-of-type {\n",
       "        vertical-align: middle;\n",
       "    }\n",
       "\n",
       "    .dataframe tbody tr th {\n",
       "        vertical-align: top;\n",
       "    }\n",
       "\n",
       "    .dataframe thead th {\n",
       "        text-align: right;\n",
       "    }\n",
       "</style>\n",
       "<table border=\"1\" class=\"dataframe\">\n",
       "  <thead>\n",
       "    <tr style=\"text-align: right;\">\n",
       "      <th></th>\n",
       "      <th>mrgn_0</th>\n",
       "      <th>mrgn_1</th>\n",
       "      <th>mrgn_2</th>\n",
       "      <th>mrgn_3</th>\n",
       "      <th>mrgn_4</th>\n",
       "      <th>mrgn_5</th>\n",
       "      <th>mrgn_6</th>\n",
       "      <th>mrgn_7</th>\n",
       "      <th>mrgn_8</th>\n",
       "      <th>mrgn_9</th>\n",
       "      <th>...</th>\n",
       "      <th>mrgn_1014</th>\n",
       "      <th>mrgn_1015</th>\n",
       "      <th>mrgn_1016</th>\n",
       "      <th>mrgn_1017</th>\n",
       "      <th>mrgn_1018</th>\n",
       "      <th>mrgn_1019</th>\n",
       "      <th>mrgn_1020</th>\n",
       "      <th>mrgn_1021</th>\n",
       "      <th>mrgn_1022</th>\n",
       "      <th>mrgn_1023</th>\n",
       "    </tr>\n",
       "  </thead>\n",
       "  <tbody>\n",
       "    <tr>\n",
       "      <th>DTXSID5020281</th>\n",
       "      <td>0</td>\n",
       "      <td>0</td>\n",
       "      <td>0</td>\n",
       "      <td>0</td>\n",
       "      <td>0</td>\n",
       "      <td>0</td>\n",
       "      <td>0</td>\n",
       "      <td>0</td>\n",
       "      <td>0</td>\n",
       "      <td>0</td>\n",
       "      <td>...</td>\n",
       "      <td>0</td>\n",
       "      <td>0</td>\n",
       "      <td>0</td>\n",
       "      <td>0</td>\n",
       "      <td>0</td>\n",
       "      <td>0</td>\n",
       "      <td>0</td>\n",
       "      <td>0</td>\n",
       "      <td>0</td>\n",
       "      <td>0</td>\n",
       "    </tr>\n",
       "    <tr>\n",
       "      <th>DTXSID8020961</th>\n",
       "      <td>0</td>\n",
       "      <td>0</td>\n",
       "      <td>0</td>\n",
       "      <td>0</td>\n",
       "      <td>0</td>\n",
       "      <td>0</td>\n",
       "      <td>0</td>\n",
       "      <td>0</td>\n",
       "      <td>0</td>\n",
       "      <td>0</td>\n",
       "      <td>...</td>\n",
       "      <td>0</td>\n",
       "      <td>0</td>\n",
       "      <td>0</td>\n",
       "      <td>0</td>\n",
       "      <td>0</td>\n",
       "      <td>0</td>\n",
       "      <td>0</td>\n",
       "      <td>0</td>\n",
       "      <td>0</td>\n",
       "      <td>0</td>\n",
       "    </tr>\n",
       "    <tr>\n",
       "      <th>DTXSID0021834</th>\n",
       "      <td>0</td>\n",
       "      <td>0</td>\n",
       "      <td>0</td>\n",
       "      <td>0</td>\n",
       "      <td>0</td>\n",
       "      <td>0</td>\n",
       "      <td>0</td>\n",
       "      <td>0</td>\n",
       "      <td>0</td>\n",
       "      <td>0</td>\n",
       "      <td>...</td>\n",
       "      <td>0</td>\n",
       "      <td>0</td>\n",
       "      <td>0</td>\n",
       "      <td>0</td>\n",
       "      <td>0</td>\n",
       "      <td>0</td>\n",
       "      <td>0</td>\n",
       "      <td>0</td>\n",
       "      <td>0</td>\n",
       "      <td>0</td>\n",
       "    </tr>\n",
       "    <tr>\n",
       "      <th>DTXSID4025745</th>\n",
       "      <td>0</td>\n",
       "      <td>0</td>\n",
       "      <td>0</td>\n",
       "      <td>0</td>\n",
       "      <td>0</td>\n",
       "      <td>0</td>\n",
       "      <td>0</td>\n",
       "      <td>0</td>\n",
       "      <td>0</td>\n",
       "      <td>0</td>\n",
       "      <td>...</td>\n",
       "      <td>0</td>\n",
       "      <td>0</td>\n",
       "      <td>0</td>\n",
       "      <td>0</td>\n",
       "      <td>0</td>\n",
       "      <td>0</td>\n",
       "      <td>0</td>\n",
       "      <td>0</td>\n",
       "      <td>0</td>\n",
       "      <td>0</td>\n",
       "    </tr>\n",
       "    <tr>\n",
       "      <th>DTXSID9025742</th>\n",
       "      <td>0</td>\n",
       "      <td>0</td>\n",
       "      <td>0</td>\n",
       "      <td>0</td>\n",
       "      <td>0</td>\n",
       "      <td>0</td>\n",
       "      <td>0</td>\n",
       "      <td>0</td>\n",
       "      <td>0</td>\n",
       "      <td>0</td>\n",
       "      <td>...</td>\n",
       "      <td>0</td>\n",
       "      <td>0</td>\n",
       "      <td>0</td>\n",
       "      <td>0</td>\n",
       "      <td>0</td>\n",
       "      <td>0</td>\n",
       "      <td>0</td>\n",
       "      <td>0</td>\n",
       "      <td>0</td>\n",
       "      <td>0</td>\n",
       "    </tr>\n",
       "    <tr>\n",
       "      <th>DTXSID5022061</th>\n",
       "      <td>0</td>\n",
       "      <td>0</td>\n",
       "      <td>0</td>\n",
       "      <td>0</td>\n",
       "      <td>0</td>\n",
       "      <td>0</td>\n",
       "      <td>0</td>\n",
       "      <td>0</td>\n",
       "      <td>0</td>\n",
       "      <td>0</td>\n",
       "      <td>...</td>\n",
       "      <td>0</td>\n",
       "      <td>0</td>\n",
       "      <td>0</td>\n",
       "      <td>0</td>\n",
       "      <td>0</td>\n",
       "      <td>0</td>\n",
       "      <td>0</td>\n",
       "      <td>0</td>\n",
       "      <td>0</td>\n",
       "      <td>0</td>\n",
       "    </tr>\n",
       "    <tr>\n",
       "      <th>DTXSID8022086</th>\n",
       "      <td>0</td>\n",
       "      <td>0</td>\n",
       "      <td>0</td>\n",
       "      <td>0</td>\n",
       "      <td>0</td>\n",
       "      <td>0</td>\n",
       "      <td>0</td>\n",
       "      <td>0</td>\n",
       "      <td>0</td>\n",
       "      <td>0</td>\n",
       "      <td>...</td>\n",
       "      <td>0</td>\n",
       "      <td>0</td>\n",
       "      <td>0</td>\n",
       "      <td>0</td>\n",
       "      <td>0</td>\n",
       "      <td>0</td>\n",
       "      <td>0</td>\n",
       "      <td>0</td>\n",
       "      <td>0</td>\n",
       "      <td>0</td>\n",
       "    </tr>\n",
       "    <tr>\n",
       "      <th>DTXSID3027320</th>\n",
       "      <td>0</td>\n",
       "      <td>0</td>\n",
       "      <td>0</td>\n",
       "      <td>0</td>\n",
       "      <td>0</td>\n",
       "      <td>0</td>\n",
       "      <td>0</td>\n",
       "      <td>0</td>\n",
       "      <td>0</td>\n",
       "      <td>0</td>\n",
       "      <td>...</td>\n",
       "      <td>0</td>\n",
       "      <td>0</td>\n",
       "      <td>0</td>\n",
       "      <td>0</td>\n",
       "      <td>0</td>\n",
       "      <td>0</td>\n",
       "      <td>0</td>\n",
       "      <td>0</td>\n",
       "      <td>0</td>\n",
       "      <td>0</td>\n",
       "    </tr>\n",
       "    <tr>\n",
       "      <th>DTXSID5023792</th>\n",
       "      <td>0</td>\n",
       "      <td>0</td>\n",
       "      <td>0</td>\n",
       "      <td>0</td>\n",
       "      <td>0</td>\n",
       "      <td>0</td>\n",
       "      <td>0</td>\n",
       "      <td>0</td>\n",
       "      <td>0</td>\n",
       "      <td>0</td>\n",
       "      <td>...</td>\n",
       "      <td>0</td>\n",
       "      <td>0</td>\n",
       "      <td>0</td>\n",
       "      <td>0</td>\n",
       "      <td>0</td>\n",
       "      <td>0</td>\n",
       "      <td>0</td>\n",
       "      <td>0</td>\n",
       "      <td>0</td>\n",
       "      <td>0</td>\n",
       "    </tr>\n",
       "  </tbody>\n",
       "</table>\n",
       "<p>9 rows × 1024 columns</p>\n",
       "</div>"
      ],
      "text/plain": [
       "               mrgn_0  mrgn_1  mrgn_2  mrgn_3  mrgn_4  mrgn_5  mrgn_6  mrgn_7  \\\n",
       "DTXSID5020281       0       0       0       0       0       0       0       0   \n",
       "DTXSID8020961       0       0       0       0       0       0       0       0   \n",
       "DTXSID0021834       0       0       0       0       0       0       0       0   \n",
       "DTXSID4025745       0       0       0       0       0       0       0       0   \n",
       "DTXSID9025742       0       0       0       0       0       0       0       0   \n",
       "DTXSID5022061       0       0       0       0       0       0       0       0   \n",
       "DTXSID8022086       0       0       0       0       0       0       0       0   \n",
       "DTXSID3027320       0       0       0       0       0       0       0       0   \n",
       "DTXSID5023792       0       0       0       0       0       0       0       0   \n",
       "\n",
       "               mrgn_8  mrgn_9  ...  mrgn_1014  mrgn_1015  mrgn_1016  \\\n",
       "DTXSID5020281       0       0  ...          0          0          0   \n",
       "DTXSID8020961       0       0  ...          0          0          0   \n",
       "DTXSID0021834       0       0  ...          0          0          0   \n",
       "DTXSID4025745       0       0  ...          0          0          0   \n",
       "DTXSID9025742       0       0  ...          0          0          0   \n",
       "DTXSID5022061       0       0  ...          0          0          0   \n",
       "DTXSID8022086       0       0  ...          0          0          0   \n",
       "DTXSID3027320       0       0  ...          0          0          0   \n",
       "DTXSID5023792       0       0  ...          0          0          0   \n",
       "\n",
       "               mrgn_1017  mrgn_1018  mrgn_1019  mrgn_1020  mrgn_1021  \\\n",
       "DTXSID5020281          0          0          0          0          0   \n",
       "DTXSID8020961          0          0          0          0          0   \n",
       "DTXSID0021834          0          0          0          0          0   \n",
       "DTXSID4025745          0          0          0          0          0   \n",
       "DTXSID9025742          0          0          0          0          0   \n",
       "DTXSID5022061          0          0          0          0          0   \n",
       "DTXSID8022086          0          0          0          0          0   \n",
       "DTXSID3027320          0          0          0          0          0   \n",
       "DTXSID5023792          0          0          0          0          0   \n",
       "\n",
       "               mrgn_1022  mrgn_1023  \n",
       "DTXSID5020281          0          0  \n",
       "DTXSID8020961          0          0  \n",
       "DTXSID0021834          0          0  \n",
       "DTXSID4025745          0          0  \n",
       "DTXSID9025742          0          0  \n",
       "DTXSID5022061          0          0  \n",
       "DTXSID8022086          0          0  \n",
       "DTXSID3027320          0          0  \n",
       "DTXSID5023792          0          0  \n",
       "\n",
       "[9 rows x 1024 columns]"
      ]
     },
     "execution_count": 84,
     "metadata": {},
     "output_type": "execute_result"
    }
   ],
   "source": [
    "X_i"
   ]
  },
  {
   "cell_type": "code",
   "execution_count": null,
   "metadata": {},
   "outputs": [],
   "source": [
    "# Identify chem FP for target chem"
   ]
  },
  {
   "cell_type": "code",
   "execution_count": 87,
   "metadata": {},
   "outputs": [],
   "source": [
    "X_t = X_i.loc[target_id]"
   ]
  },
  {
   "cell_type": "code",
   "execution_count": null,
   "metadata": {},
   "outputs": [],
   "source": [
    "# Make prediction using the neighbours identified"
   ]
  },
  {
   "cell_type": "code",
   "execution_count": 209,
   "metadata": {},
   "outputs": [],
   "source": [
    "GP_i = GenRAPredValue(n_neighbors=8,algorithm='brute',metric='jaccard',n_jobs=-1)"
   ]
  },
  {
   "cell_type": "code",
   "execution_count": 211,
   "metadata": {},
   "outputs": [
    {
     "data": {
      "text/plain": [
       "GenRAPredValue(algorithm='brute', leaf_size=30, metric='jaccard',\n",
       "               metric_params=None, n_jobs=-1, n_neighbors=8, p=2,\n",
       "               sim_params=None)"
      ]
     },
     "execution_count": 211,
     "metadata": {},
     "output_type": "execute_result"
    }
   ],
   "source": [
    "GP_i.fit(X_i[1:], Y_i[1:])"
   ]
  },
  {
   "cell_type": "code",
   "execution_count": 212,
   "metadata": {},
   "outputs": [],
   "source": [
    "Y_t = GP_i.predict([X_t])"
   ]
  },
  {
   "cell_type": "code",
   "execution_count": 228,
   "metadata": {},
   "outputs": [
    {
     "data": {
      "text/plain": [
       "array([-0.82986533])"
      ]
     },
     "execution_count": 228,
     "metadata": {},
     "output_type": "execute_result"
    }
   ],
   "source": [
    "#Predicted value of target chemical\n",
    "Y_t"
   ]
  },
  {
   "cell_type": "markdown",
   "metadata": {},
   "source": [
    "#### Computing the similarity weighted activity manually"
   ]
  },
  {
   "cell_type": "code",
   "execution_count": 159,
   "metadata": {},
   "outputs": [
    {
     "data": {
      "text/html": [
       "<div>\n",
       "<style scoped>\n",
       "    .dataframe tbody tr th:only-of-type {\n",
       "        vertical-align: middle;\n",
       "    }\n",
       "\n",
       "    .dataframe tbody tr th {\n",
       "        vertical-align: top;\n",
       "    }\n",
       "\n",
       "    .dataframe thead th {\n",
       "        text-align: right;\n",
       "    }\n",
       "</style>\n",
       "<table border=\"1\" class=\"dataframe\">\n",
       "  <thead>\n",
       "    <tr style=\"text-align: right;\">\n",
       "      <th></th>\n",
       "      <th>DTXSID5020281</th>\n",
       "      <th>DTXSID8020961</th>\n",
       "      <th>DTXSID0021834</th>\n",
       "      <th>DTXSID2044347</th>\n",
       "      <th>DTXSID4025745</th>\n",
       "      <th>DTXSID9059208</th>\n",
       "      <th>DTXSID7026653</th>\n",
       "      <th>DTXSID6026080</th>\n",
       "      <th>DTXSID80870440</th>\n",
       "      <th>DTXSID7026655</th>\n",
       "      <th>...</th>\n",
       "      <th>DTXSID70244252</th>\n",
       "      <th>DTXSID9046998</th>\n",
       "      <th>DTXSID70244257</th>\n",
       "      <th>DTXSID60244281</th>\n",
       "      <th>DTXSID0073245</th>\n",
       "      <th>DTXSID3044752</th>\n",
       "      <th>DTXSID80244288</th>\n",
       "      <th>DTXSID0022143</th>\n",
       "      <th>DTXSID6020303</th>\n",
       "      <th>DTXSID2025395</th>\n",
       "    </tr>\n",
       "  </thead>\n",
       "  <tbody>\n",
       "    <tr>\n",
       "      <th>DTXSID5020281</th>\n",
       "      <td>1.000000</td>\n",
       "      <td>0.466667</td>\n",
       "      <td>0.517241</td>\n",
       "      <td>0.095238</td>\n",
       "      <td>0.468750</td>\n",
       "      <td>0.424242</td>\n",
       "      <td>0.156250</td>\n",
       "      <td>0.125000</td>\n",
       "      <td>0.388889</td>\n",
       "      <td>0.378378</td>\n",
       "      <td>...</td>\n",
       "      <td>0.163934</td>\n",
       "      <td>0.000000</td>\n",
       "      <td>0.052632</td>\n",
       "      <td>0.040000</td>\n",
       "      <td>0.000000</td>\n",
       "      <td>0.023810</td>\n",
       "      <td>0.00000</td>\n",
       "      <td>0.022222</td>\n",
       "      <td>0.029412</td>\n",
       "      <td>0.000000</td>\n",
       "    </tr>\n",
       "    <tr>\n",
       "      <th>DTXSID8020961</th>\n",
       "      <td>0.466667</td>\n",
       "      <td>1.000000</td>\n",
       "      <td>0.466667</td>\n",
       "      <td>0.095238</td>\n",
       "      <td>0.424242</td>\n",
       "      <td>0.424242</td>\n",
       "      <td>0.121212</td>\n",
       "      <td>0.125000</td>\n",
       "      <td>0.388889</td>\n",
       "      <td>0.378378</td>\n",
       "      <td>...</td>\n",
       "      <td>0.059701</td>\n",
       "      <td>0.000000</td>\n",
       "      <td>0.071429</td>\n",
       "      <td>0.040000</td>\n",
       "      <td>0.057143</td>\n",
       "      <td>0.048780</td>\n",
       "      <td>0.00000</td>\n",
       "      <td>0.045455</td>\n",
       "      <td>0.029412</td>\n",
       "      <td>0.000000</td>\n",
       "    </tr>\n",
       "    <tr>\n",
       "      <th>DTXSID0021834</th>\n",
       "      <td>0.517241</td>\n",
       "      <td>0.466667</td>\n",
       "      <td>1.000000</td>\n",
       "      <td>0.121951</td>\n",
       "      <td>0.424242</td>\n",
       "      <td>0.424242</td>\n",
       "      <td>0.156250</td>\n",
       "      <td>0.161290</td>\n",
       "      <td>0.388889</td>\n",
       "      <td>0.378378</td>\n",
       "      <td>...</td>\n",
       "      <td>0.059701</td>\n",
       "      <td>0.000000</td>\n",
       "      <td>0.071429</td>\n",
       "      <td>0.061224</td>\n",
       "      <td>0.000000</td>\n",
       "      <td>0.048780</td>\n",
       "      <td>0.00000</td>\n",
       "      <td>0.045455</td>\n",
       "      <td>0.000000</td>\n",
       "      <td>0.000000</td>\n",
       "    </tr>\n",
       "    <tr>\n",
       "      <th>DTXSID2044347</th>\n",
       "      <td>0.095238</td>\n",
       "      <td>0.095238</td>\n",
       "      <td>0.121951</td>\n",
       "      <td>1.000000</td>\n",
       "      <td>0.088889</td>\n",
       "      <td>0.361111</td>\n",
       "      <td>0.258065</td>\n",
       "      <td>0.266667</td>\n",
       "      <td>0.083333</td>\n",
       "      <td>0.177778</td>\n",
       "      <td>...</td>\n",
       "      <td>0.106061</td>\n",
       "      <td>0.026316</td>\n",
       "      <td>0.107143</td>\n",
       "      <td>0.080000</td>\n",
       "      <td>0.054054</td>\n",
       "      <td>0.097561</td>\n",
       "      <td>0.02500</td>\n",
       "      <td>0.116279</td>\n",
       "      <td>0.027778</td>\n",
       "      <td>0.032258</td>\n",
       "    </tr>\n",
       "    <tr>\n",
       "      <th>DTXSID4025745</th>\n",
       "      <td>0.468750</td>\n",
       "      <td>0.424242</td>\n",
       "      <td>0.424242</td>\n",
       "      <td>0.088889</td>\n",
       "      <td>1.000000</td>\n",
       "      <td>0.388889</td>\n",
       "      <td>0.142857</td>\n",
       "      <td>0.114286</td>\n",
       "      <td>0.358974</td>\n",
       "      <td>0.421053</td>\n",
       "      <td>...</td>\n",
       "      <td>0.072464</td>\n",
       "      <td>0.025641</td>\n",
       "      <td>0.050000</td>\n",
       "      <td>0.057692</td>\n",
       "      <td>0.025641</td>\n",
       "      <td>0.045455</td>\n",
       "      <td>0.02439</td>\n",
       "      <td>0.042553</td>\n",
       "      <td>0.085714</td>\n",
       "      <td>0.031250</td>\n",
       "    </tr>\n",
       "  </tbody>\n",
       "</table>\n",
       "<p>5 rows × 6975 columns</p>\n",
       "</div>"
      ],
      "text/plain": [
       "               DTXSID5020281  DTXSID8020961  DTXSID0021834  DTXSID2044347  \\\n",
       "DTXSID5020281       1.000000       0.466667       0.517241       0.095238   \n",
       "DTXSID8020961       0.466667       1.000000       0.466667       0.095238   \n",
       "DTXSID0021834       0.517241       0.466667       1.000000       0.121951   \n",
       "DTXSID2044347       0.095238       0.095238       0.121951       1.000000   \n",
       "DTXSID4025745       0.468750       0.424242       0.424242       0.088889   \n",
       "\n",
       "               DTXSID4025745  DTXSID9059208  DTXSID7026653  DTXSID6026080  \\\n",
       "DTXSID5020281       0.468750       0.424242       0.156250       0.125000   \n",
       "DTXSID8020961       0.424242       0.424242       0.121212       0.125000   \n",
       "DTXSID0021834       0.424242       0.424242       0.156250       0.161290   \n",
       "DTXSID2044347       0.088889       0.361111       0.258065       0.266667   \n",
       "DTXSID4025745       1.000000       0.388889       0.142857       0.114286   \n",
       "\n",
       "               DTXSID80870440  DTXSID7026655  ...  DTXSID70244252  \\\n",
       "DTXSID5020281        0.388889       0.378378  ...        0.163934   \n",
       "DTXSID8020961        0.388889       0.378378  ...        0.059701   \n",
       "DTXSID0021834        0.388889       0.378378  ...        0.059701   \n",
       "DTXSID2044347        0.083333       0.177778  ...        0.106061   \n",
       "DTXSID4025745        0.358974       0.421053  ...        0.072464   \n",
       "\n",
       "               DTXSID9046998  DTXSID70244257  DTXSID60244281  DTXSID0073245  \\\n",
       "DTXSID5020281       0.000000        0.052632        0.040000       0.000000   \n",
       "DTXSID8020961       0.000000        0.071429        0.040000       0.057143   \n",
       "DTXSID0021834       0.000000        0.071429        0.061224       0.000000   \n",
       "DTXSID2044347       0.026316        0.107143        0.080000       0.054054   \n",
       "DTXSID4025745       0.025641        0.050000        0.057692       0.025641   \n",
       "\n",
       "               DTXSID3044752  DTXSID80244288  DTXSID0022143  DTXSID6020303  \\\n",
       "DTXSID5020281       0.023810         0.00000       0.022222       0.029412   \n",
       "DTXSID8020961       0.048780         0.00000       0.045455       0.029412   \n",
       "DTXSID0021834       0.048780         0.00000       0.045455       0.000000   \n",
       "DTXSID2044347       0.097561         0.02500       0.116279       0.027778   \n",
       "DTXSID4025745       0.045455         0.02439       0.042553       0.085714   \n",
       "\n",
       "               DTXSID2025395  \n",
       "DTXSID5020281       0.000000  \n",
       "DTXSID8020961       0.000000  \n",
       "DTXSID0021834       0.000000  \n",
       "DTXSID2044347       0.032258  \n",
       "DTXSID4025745       0.031250  \n",
       "\n",
       "[5 rows x 6975 columns]"
      ]
     },
     "execution_count": 159,
     "metadata": {},
     "output_type": "execute_result"
    }
   ],
   "source": [
    "from scipy.spatial.distance import pdist, squareform\n",
    "\n",
    "D_mgrn = pd.DataFrame(squareform(pdist(X, 'jaccard')), columns = X.index, index = X.index)\n",
    "S_mgrn = 1-D_mgrn\n",
    "S_mgrn.head()"
   ]
  },
  {
   "cell_type": "code",
   "execution_count": 161,
   "metadata": {},
   "outputs": [],
   "source": [
    "target_chm = S_mgrn.DTXSID5020281.values"
   ]
  },
  {
   "cell_type": "code",
   "execution_count": 162,
   "metadata": {},
   "outputs": [
    {
     "data": {
      "text/plain": [
       "array([1.        , 0.46666667, 0.51724138, ..., 0.02222222, 0.02941176,\n",
       "       0.        ])"
      ]
     },
     "execution_count": 162,
     "metadata": {},
     "output_type": "execute_result"
    }
   ],
   "source": [
    "target_chm "
   ]
  },
  {
   "cell_type": "code",
   "execution_count": 163,
   "metadata": {},
   "outputs": [
    {
     "data": {
      "text/html": [
       "<div>\n",
       "<style scoped>\n",
       "    .dataframe tbody tr th:only-of-type {\n",
       "        vertical-align: middle;\n",
       "    }\n",
       "\n",
       "    .dataframe tbody tr th {\n",
       "        vertical-align: top;\n",
       "    }\n",
       "\n",
       "    .dataframe thead th {\n",
       "        text-align: right;\n",
       "    }\n",
       "</style>\n",
       "<table border=\"1\" class=\"dataframe\">\n",
       "  <thead>\n",
       "    <tr style=\"text-align: right;\">\n",
       "      <th></th>\n",
       "      <th>DTXSID5020281</th>\n",
       "      <th>DTXSID8020961</th>\n",
       "      <th>DTXSID0021834</th>\n",
       "      <th>DTXSID2044347</th>\n",
       "      <th>DTXSID4025745</th>\n",
       "      <th>DTXSID9059208</th>\n",
       "      <th>DTXSID7026653</th>\n",
       "      <th>DTXSID6026080</th>\n",
       "      <th>DTXSID80870440</th>\n",
       "      <th>DTXSID7026655</th>\n",
       "      <th>...</th>\n",
       "      <th>DTXSID70244252</th>\n",
       "      <th>DTXSID9046998</th>\n",
       "      <th>DTXSID70244257</th>\n",
       "      <th>DTXSID60244281</th>\n",
       "      <th>DTXSID0073245</th>\n",
       "      <th>DTXSID3044752</th>\n",
       "      <th>DTXSID80244288</th>\n",
       "      <th>DTXSID0022143</th>\n",
       "      <th>DTXSID6020303</th>\n",
       "      <th>DTXSID2025395</th>\n",
       "    </tr>\n",
       "  </thead>\n",
       "  <tbody>\n",
       "    <tr>\n",
       "      <th>DTXSID5020281</th>\n",
       "      <td>1.0</td>\n",
       "      <td>0.466667</td>\n",
       "      <td>0.517241</td>\n",
       "      <td>0.095238</td>\n",
       "      <td>0.46875</td>\n",
       "      <td>0.424242</td>\n",
       "      <td>0.15625</td>\n",
       "      <td>0.125</td>\n",
       "      <td>0.388889</td>\n",
       "      <td>0.378378</td>\n",
       "      <td>...</td>\n",
       "      <td>0.163934</td>\n",
       "      <td>0.0</td>\n",
       "      <td>0.052632</td>\n",
       "      <td>0.04</td>\n",
       "      <td>0.0</td>\n",
       "      <td>0.02381</td>\n",
       "      <td>0.0</td>\n",
       "      <td>0.022222</td>\n",
       "      <td>0.029412</td>\n",
       "      <td>0.0</td>\n",
       "    </tr>\n",
       "  </tbody>\n",
       "</table>\n",
       "<p>1 rows × 6975 columns</p>\n",
       "</div>"
      ],
      "text/plain": [
       "               DTXSID5020281  DTXSID8020961  DTXSID0021834  DTXSID2044347  \\\n",
       "DTXSID5020281            1.0       0.466667       0.517241       0.095238   \n",
       "\n",
       "               DTXSID4025745  DTXSID9059208  DTXSID7026653  DTXSID6026080  \\\n",
       "DTXSID5020281        0.46875       0.424242        0.15625          0.125   \n",
       "\n",
       "               DTXSID80870440  DTXSID7026655  ...  DTXSID70244252  \\\n",
       "DTXSID5020281        0.388889       0.378378  ...        0.163934   \n",
       "\n",
       "               DTXSID9046998  DTXSID70244257  DTXSID60244281  DTXSID0073245  \\\n",
       "DTXSID5020281            0.0        0.052632            0.04            0.0   \n",
       "\n",
       "               DTXSID3044752  DTXSID80244288  DTXSID0022143  DTXSID6020303  \\\n",
       "DTXSID5020281        0.02381             0.0       0.022222       0.029412   \n",
       "\n",
       "               DTXSID2025395  \n",
       "DTXSID5020281            0.0  \n",
       "\n",
       "[1 rows x 6975 columns]"
      ]
     },
     "execution_count": 163,
     "metadata": {},
     "output_type": "execute_result"
    }
   ],
   "source": [
    "S_mgrn[S_mgrn.index == 'DTXSID5020281']"
   ]
  },
  {
   "cell_type": "code",
   "execution_count": 164,
   "metadata": {},
   "outputs": [],
   "source": [
    "ids_chem = {i:x for i, x in enumerate(S_mgrn.index)}"
   ]
  },
  {
   "cell_type": "code",
   "execution_count": 215,
   "metadata": {},
   "outputs": [
    {
     "name": "stdout",
     "output_type": "stream",
     "text": [
      "[ 926 6947    2    1    4 6204    0 4990 4452]\n"
     ]
    }
   ],
   "source": [
    "temp_chem = np.argpartition(-target_chm, 9)\n",
    "chem_nn = temp_chem[:9]\n",
    "print(chem_nn)\n"
   ]
  },
  {
   "cell_type": "code",
   "execution_count": 216,
   "metadata": {},
   "outputs": [
    {
     "data": {
      "text/plain": [
       "array([0.45454545, 0.46666667, 0.51724138, 0.46666667, 0.46875   ,\n",
       "       0.46666667, 1.        , 0.45454545, 0.4516129 ])"
      ]
     },
     "execution_count": 216,
     "metadata": {},
     "output_type": "execute_result"
    }
   ],
   "source": [
    "target_chm[chem_nn]"
   ]
  },
  {
   "cell_type": "code",
   "execution_count": 217,
   "metadata": {},
   "outputs": [],
   "source": [
    "nn_chem = []\n",
    "for x in chem_nn:\n",
    "    nn_chem.append(ids_chem[x])"
   ]
  },
  {
   "cell_type": "code",
   "execution_count": 218,
   "metadata": {},
   "outputs": [],
   "source": [
    "mydict = {k:v for k,v in list(zip(nn_chem,target_chm[chem_nn]))}"
   ]
  },
  {
   "cell_type": "code",
   "execution_count": 219,
   "metadata": {},
   "outputs": [],
   "source": [
    "Yb = Y.reset_index()"
   ]
  },
  {
   "cell_type": "code",
   "execution_count": 220,
   "metadata": {},
   "outputs": [],
   "source": [
    "Yb.columns = ['dtxsid', 'LD50_LM']"
   ]
  },
  {
   "cell_type": "code",
   "execution_count": 221,
   "metadata": {},
   "outputs": [],
   "source": [
    "Yh =Yb[Yb.dtxsid.isin(nn_chem)]"
   ]
  },
  {
   "cell_type": "code",
   "execution_count": 222,
   "metadata": {},
   "outputs": [],
   "source": [
    "Yh['Jaccard'] = Yh['dtxsid'].map(mydict)"
   ]
  },
  {
   "cell_type": "code",
   "execution_count": 223,
   "metadata": {},
   "outputs": [
    {
     "data": {
      "text/html": [
       "<div>\n",
       "<style scoped>\n",
       "    .dataframe tbody tr th:only-of-type {\n",
       "        vertical-align: middle;\n",
       "    }\n",
       "\n",
       "    .dataframe tbody tr th {\n",
       "        vertical-align: top;\n",
       "    }\n",
       "\n",
       "    .dataframe thead th {\n",
       "        text-align: right;\n",
       "    }\n",
       "</style>\n",
       "<table border=\"1\" class=\"dataframe\">\n",
       "  <thead>\n",
       "    <tr style=\"text-align: right;\">\n",
       "      <th></th>\n",
       "      <th>dtxsid</th>\n",
       "      <th>LD50_LM</th>\n",
       "      <th>Jaccard</th>\n",
       "    </tr>\n",
       "  </thead>\n",
       "  <tbody>\n",
       "    <tr>\n",
       "      <th>0</th>\n",
       "      <td>DTXSID5020281</td>\n",
       "      <td>-0.465339</td>\n",
       "      <td>1.000000</td>\n",
       "    </tr>\n",
       "    <tr>\n",
       "      <th>1</th>\n",
       "      <td>DTXSID8020961</td>\n",
       "      <td>-0.734786</td>\n",
       "      <td>0.466667</td>\n",
       "    </tr>\n",
       "    <tr>\n",
       "      <th>2</th>\n",
       "      <td>DTXSID0021834</td>\n",
       "      <td>-0.087091</td>\n",
       "      <td>0.517241</td>\n",
       "    </tr>\n",
       "    <tr>\n",
       "      <th>4</th>\n",
       "      <td>DTXSID4025745</td>\n",
       "      <td>-1.022972</td>\n",
       "      <td>0.468750</td>\n",
       "    </tr>\n",
       "    <tr>\n",
       "      <th>926</th>\n",
       "      <td>DTXSID9025742</td>\n",
       "      <td>-1.479704</td>\n",
       "      <td>0.454545</td>\n",
       "    </tr>\n",
       "    <tr>\n",
       "      <th>4452</th>\n",
       "      <td>DTXSID5022061</td>\n",
       "      <td>-1.492773</td>\n",
       "      <td>0.451613</td>\n",
       "    </tr>\n",
       "    <tr>\n",
       "      <th>4990</th>\n",
       "      <td>DTXSID8022086</td>\n",
       "      <td>-0.457143</td>\n",
       "      <td>0.454545</td>\n",
       "    </tr>\n",
       "    <tr>\n",
       "      <th>6204</th>\n",
       "      <td>DTXSID3027320</td>\n",
       "      <td>-0.298076</td>\n",
       "      <td>0.466667</td>\n",
       "    </tr>\n",
       "    <tr>\n",
       "      <th>6947</th>\n",
       "      <td>DTXSID5023792</td>\n",
       "      <td>-1.174596</td>\n",
       "      <td>0.466667</td>\n",
       "    </tr>\n",
       "  </tbody>\n",
       "</table>\n",
       "</div>"
      ],
      "text/plain": [
       "             dtxsid   LD50_LM   Jaccard\n",
       "0     DTXSID5020281 -0.465339  1.000000\n",
       "1     DTXSID8020961 -0.734786  0.466667\n",
       "2     DTXSID0021834 -0.087091  0.517241\n",
       "4     DTXSID4025745 -1.022972  0.468750\n",
       "926   DTXSID9025742 -1.479704  0.454545\n",
       "4452  DTXSID5022061 -1.492773  0.451613\n",
       "4990  DTXSID8022086 -0.457143  0.454545\n",
       "6204  DTXSID3027320 -0.298076  0.466667\n",
       "6947  DTXSID5023792 -1.174596  0.466667"
      ]
     },
     "execution_count": 223,
     "metadata": {},
     "output_type": "execute_result"
    }
   ],
   "source": [
    "Yh"
   ]
  },
  {
   "cell_type": "code",
   "execution_count": 190,
   "metadata": {},
   "outputs": [],
   "source": [
    "def wtavg(df):\n",
    "    sim = df.Jaccard\n",
    "    acts = df.LD50_LM\n",
    "    return np.sum(acts.values * sim.values)/np.sum(sim.values)\n"
   ]
  },
  {
   "cell_type": "code",
   "execution_count": 229,
   "metadata": {},
   "outputs": [],
   "source": [
    "# Predicted similarity weighted activity of target matches!!"
   ]
  },
  {
   "cell_type": "code",
   "execution_count": 224,
   "metadata": {},
   "outputs": [
    {
     "data": {
      "text/plain": [
       "-0.8298653277792956"
      ]
     },
     "execution_count": 224,
     "metadata": {},
     "output_type": "execute_result"
    }
   ],
   "source": [
    "wtavg(Yh[Yh['dtxsid'] != 'DTXSID5020281'])"
   ]
  },
  {
   "cell_type": "code",
   "execution_count": 230,
   "metadata": {},
   "outputs": [],
   "source": [
    "# Checking neighbours identified manually"
   ]
  },
  {
   "cell_type": "code",
   "execution_count": 225,
   "metadata": {},
   "outputs": [
    {
     "data": {
      "text/plain": [
       "['DTXSID5020281',\n",
       " 'DTXSID8020961',\n",
       " 'DTXSID0021834',\n",
       " 'DTXSID4025745',\n",
       " 'DTXSID9025742',\n",
       " 'DTXSID5022061',\n",
       " 'DTXSID8022086',\n",
       " 'DTXSID3027320',\n",
       " 'DTXSID5023792']"
      ]
     },
     "execution_count": 225,
     "metadata": {},
     "output_type": "execute_result"
    }
   ],
   "source": [
    "Yh.dtxsid.tolist()"
   ]
  },
  {
   "cell_type": "code",
   "execution_count": 226,
   "metadata": {},
   "outputs": [
    {
     "data": {
      "text/plain": [
       "['DTXSID5020281',\n",
       " 'DTXSID8020961',\n",
       " 'DTXSID0021834',\n",
       " 'DTXSID4025745',\n",
       " 'DTXSID9025742',\n",
       " 'DTXSID5022061',\n",
       " 'DTXSID8022086',\n",
       " 'DTXSID3027320',\n",
       " 'DTXSID5023792']"
      ]
     },
     "execution_count": 226,
     "metadata": {},
     "output_type": "execute_result"
    }
   ],
   "source": [
    "Y_i.reset_index()['index'].tolist()"
   ]
  },
  {
   "cell_type": "code",
   "execution_count": 239,
   "metadata": {},
   "outputs": [],
   "source": [
    "assert (Y_i.reset_index()['index'].tolist() ==  Yh.dtxsid.tolist())"
   ]
  },
  {
   "cell_type": "code",
   "execution_count": 241,
   "metadata": {},
   "outputs": [],
   "source": [
    "# Neighbours identified are equal"
   ]
  },
  {
   "cell_type": "code",
   "execution_count": 240,
   "metadata": {},
   "outputs": [
    {
     "data": {
      "text/plain": [
       "[]"
      ]
     },
     "execution_count": 240,
     "metadata": {},
     "output_type": "execute_result"
    }
   ],
   "source": [
    "[e for e in Y_i.reset_index()['index'].tolist() if e not in Yh.dtxsid.tolist()]"
   ]
  }
 ],
 "metadata": {
  "kernelspec": {
   "display_name": "unc_rax",
   "language": "python",
   "name": "unc_rax"
  },
  "language_info": {
   "codemirror_mode": {
    "name": "ipython",
    "version": 3
   },
   "file_extension": ".py",
   "mimetype": "text/x-python",
   "name": "python",
   "nbconvert_exporter": "python",
   "pygments_lexer": "ipython3",
   "version": "3.8.8"
  }
 },
 "nbformat": 4,
 "nbformat_minor": 4
}
